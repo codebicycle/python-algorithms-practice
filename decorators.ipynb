{
 "cells": [
  {
   "cell_type": "markdown",
   "metadata": {},
   "source": [
    "# Decorators"
   ]
  },
  {
   "cell_type": "code",
   "execution_count": 2,
   "metadata": {
    "collapsed": true
   },
   "outputs": [],
   "source": [
    "def add(a, b):\n",
    "    return a + b"
   ]
  },
  {
   "cell_type": "code",
   "execution_count": 3,
   "metadata": {
    "collapsed": true
   },
   "outputs": [],
   "source": [
    "def add_to(first):\n",
    "    def adder(second):\n",
    "        return add(first, second)\n",
    "    return adder"
   ]
  },
  {
   "cell_type": "code",
   "execution_count": 4,
   "metadata": {
    "collapsed": false
   },
   "outputs": [
    {
     "data": {
      "text/plain": [
       "10"
      ]
     },
     "execution_count": 4,
     "metadata": {},
     "output_type": "execute_result"
    }
   ],
   "source": [
    "add_to_2 = add_to(2)\n",
    "add_to_2(8)"
   ]
  },
  {
   "cell_type": "code",
   "execution_count": 6,
   "metadata": {
    "collapsed": false
   },
   "outputs": [],
   "source": [
    "def trace(func):\n",
    "    def inner(*args):\n",
    "        print(\"{}{!r}\".format(func, args))\n",
    "        result = func(*args)\n",
    "        print(\"Returning\", result)\n",
    "        return result\n",
    "    return inner"
   ]
  },
  {
   "cell_type": "code",
   "execution_count": 8,
   "metadata": {
    "collapsed": false
   },
   "outputs": [
    {
     "name": "stdout",
     "output_type": "stream",
     "text": [
      "<function add at 0x7f0c34067a60>(2, 2)\n",
      "Returning 4\n"
     ]
    },
    {
     "data": {
      "text/plain": [
       "4"
      ]
     },
     "execution_count": 8,
     "metadata": {},
     "output_type": "execute_result"
    }
   ],
   "source": [
    "add_trace = trace(add)\n",
    "add_trace(2, 2)"
   ]
  },
  {
   "cell_type": "code",
   "execution_count": 26,
   "metadata": {
    "collapsed": false
   },
   "outputs": [
    {
     "name": "stdout",
     "output_type": "stream",
     "text": [
      "add(1, 1) -> 2\n",
      "<function add at 0x7f0c34067730>(3, 3)\n",
      "Returning 6\n"
     ]
    },
    {
     "data": {
      "text/plain": [
       "6"
      ]
     },
     "execution_count": 26,
     "metadata": {},
     "output_type": "execute_result"
    }
   ],
   "source": [
    "def add(a, b):\n",
    "    return a + b\n",
    "\n",
    "res = add(1, 1)\n",
    "print('add(1, 1) ->', res)\n",
    "\n",
    "add = trace(add)\n",
    "add(3, 3)"
   ]
  },
  {
   "cell_type": "code",
   "execution_count": 27,
   "metadata": {
    "collapsed": false
   },
   "outputs": [
    {
     "name": "stdout",
     "output_type": "stream",
     "text": [
      "<function add at 0x7f0c34067950>(4, 4)\n",
      "Returning 8\n"
     ]
    },
    {
     "data": {
      "text/plain": [
       "8"
      ]
     },
     "execution_count": 27,
     "metadata": {},
     "output_type": "execute_result"
    }
   ],
   "source": [
    "@trace\n",
    "def add(a, b):\n",
    "    return a + b\n",
    "\n",
    "add(4, 4)"
   ]
  },
  {
   "cell_type": "markdown",
   "metadata": {},
   "source": [
    "#### Memoize"
   ]
  },
  {
   "cell_type": "code",
   "execution_count": 48,
   "metadata": {
    "collapsed": false
   },
   "outputs": [],
   "source": [
    "def memoize(func):\n",
    "    print(\"Called memoize({!r})\".format(func))\n",
    "    cache = {}\n",
    "    def inner(*args):\n",
    "        print(\"\\nCalled inner{!r}\".format(args))\n",
    "        if args in cache:\n",
    "            print(\"Cache hit! {}{!r} -> {}\".format(func.__name__, args, cache[args]))\n",
    "            return cache[args]\n",
    "        else:\n",
    "            res = func(*args)\n",
    "            cache[args] = res\n",
    "            print(\"{}{!r} -> {}\".format(func.__name__, args, res))\n",
    "            return res\n",
    "    return inner"
   ]
  },
  {
   "cell_type": "code",
   "execution_count": 49,
   "metadata": {
    "collapsed": false
   },
   "outputs": [
    {
     "name": "stdout",
     "output_type": "stream",
     "text": [
      "Called memoize(<function add at 0x7f0c2d7daea0>)\n",
      "\n",
      "Called inner(2, 2)\n",
      "add(2, 2) -> 4\n",
      "\n",
      "Called inner(3, 3)\n",
      "add(3, 3) -> 6\n",
      "\n",
      "Called inner(2, 2)\n",
      "Cache hit! add(2, 2) -> 4\n"
     ]
    },
    {
     "data": {
      "text/plain": [
       "4"
      ]
     },
     "execution_count": 49,
     "metadata": {},
     "output_type": "execute_result"
    }
   ],
   "source": [
    "@memoize\n",
    "def add(a, b):\n",
    "    return a + b\n",
    "\n",
    "add(2, 2)\n",
    "\n",
    "add(3, 3)\n",
    "\n",
    "add(2, 2)"
   ]
  },
  {
   "cell_type": "markdown",
   "metadata": {},
   "source": [
    "#### Atypical decorator"
   ]
  },
  {
   "cell_type": "code",
   "execution_count": 50,
   "metadata": {
    "collapsed": true
   },
   "outputs": [],
   "source": [
    "def three(func):\n",
    "    print(\"Called three({!r})\".format(func))\n",
    "    return 3\n",
    "\n",
    "def x():\n",
    "    pass"
   ]
  },
  {
   "cell_type": "code",
   "execution_count": 54,
   "metadata": {
    "collapsed": false
   },
   "outputs": [
    {
     "name": "stdout",
     "output_type": "stream",
     "text": [
      "Called three(3)\n",
      "3 <class 'int'>\n"
     ]
    }
   ],
   "source": [
    "x = three(x)\n",
    "print(x, type(x))"
   ]
  },
  {
   "cell_type": "code",
   "execution_count": 55,
   "metadata": {
    "collapsed": false
   },
   "outputs": [
    {
     "name": "stdout",
     "output_type": "stream",
     "text": [
      "Called three(<function x at 0x7f0c2d7dfd08>)\n",
      "3 <class 'int'>\n"
     ]
    }
   ],
   "source": [
    "@three\n",
    "def x():\n",
    "    pass\n",
    "\n",
    "print(x, type(x))"
   ]
  },
  {
   "cell_type": "markdown",
   "metadata": {},
   "source": [
    "Decorators \n",
    "- pass the body of the defined function to the decorator function\n",
    "- modify namespace, the name of the defined function points to the decorator function's return value"
   ]
  }
 ],
 "metadata": {
  "kernelspec": {
   "display_name": "Python 3",
   "language": "python",
   "name": "python3"
  },
  "language_info": {
   "codemirror_mode": {
    "name": "ipython",
    "version": 3
   },
   "file_extension": ".py",
   "mimetype": "text/x-python",
   "name": "python",
   "nbconvert_exporter": "python",
   "pygments_lexer": "ipython3",
   "version": "3.5.2"
  }
 },
 "nbformat": 4,
 "nbformat_minor": 1
}
